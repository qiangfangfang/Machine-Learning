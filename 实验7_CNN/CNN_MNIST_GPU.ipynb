{
 "cells": [
  {
   "cell_type": "code",
   "execution_count": 1,
   "id": "1717a7af",
   "metadata": {},
   "outputs": [],
   "source": [
    "import torch\n",
    "from torchvision import datasets\n",
    "import torchvision.transforms as transforms\n",
    "from torch.utils.data import DataLoader"
   ]
  },
  {
   "cell_type": "code",
   "execution_count": 2,
   "id": "956516af",
   "metadata": {},
   "outputs": [],
   "source": [
    "#读取数据\n",
    "transform = transforms.Compose(\n",
    "    [transforms.Resize((32,32)),\n",
    "     transforms.ToTensor()])\n",
    "\n",
    "train_data = datasets.MNIST(root=\"./data\", train=True, \n",
    "                            download=True,transform=transform)\n",
    "test_data = datasets.MNIST(root=\"./data\", train=False, \n",
    "                           download=True, transform=transform)"
   ]
  },
  {
   "cell_type": "code",
   "execution_count": 3,
   "id": "3e16ebea",
   "metadata": {},
   "outputs": [],
   "source": [
    "batch_size = 32\n",
    "train_loader = torch.utils.data.DataLoader(train_data, batch_size = batch_size, num_workers = 0)\n",
    "test_loader = torch.utils.data.DataLoader(test_data, batch_size = batch_size, num_workers = 0)"
   ]
  },
  {
   "cell_type": "code",
   "execution_count": 4,
   "id": "b04c0e9a",
   "metadata": {},
   "outputs": [],
   "source": [
    "import torch.nn as nn\n",
    "import torch.nn.functional as F\n",
    "class LeNet(nn.Module):   \n",
    "    def __init__(self):\n",
    "        super(LeNet, self).__init__()\n",
    "        self.conv1 = nn.Conv2d(1, 6, 5)\n",
    "        self.pool1 = nn.MaxPool2d(2, 2)\n",
    "        self.conv2 = nn.Conv2d(6, 16, 5)\n",
    "        self.pool2 = nn.MaxPool2d(2, 2)\n",
    "        self.fc1 = nn.Linear(16*5*5, 120)\n",
    "        self.fc2 = nn.Linear(120, 84)\n",
    "        self.fc3 = nn.Linear(84, 10)\n",
    "\n",
    "    def forward(self, x):\n",
    "        x = F.relu(self.conv1(x))\n",
    "        x = self.pool1(x)\n",
    "        x = F.relu(self.conv2(x))\n",
    "        x = self.pool2(x)\n",
    "        x = x.view(-1, 16*5*5)\n",
    "        x = F.relu(self.fc1(x))\n",
    "        x = F.relu(self.fc2(x))\n",
    "        x = self.fc3(x)\n",
    "        return x"
   ]
  },
  {
   "cell_type": "code",
   "execution_count": 5,
   "id": "20eec640",
   "metadata": {},
   "outputs": [
    {
     "name": "stdout",
     "output_type": "stream",
     "text": [
      "using cuda:0 device.\n"
     ]
    }
   ],
   "source": [
    "device = torch.device(\"cuda:0\" if torch.cuda.is_available() else \"cpu\")\n",
    "print(\"using {} device.\".format(device))\n",
    "model=LeNet().to(device)"
   ]
  },
  {
   "cell_type": "code",
   "execution_count": 6,
   "id": "70550021",
   "metadata": {},
   "outputs": [],
   "source": [
    "import torch.optim as optim\n",
    "loss_function = nn.CrossEntropyLoss() \n",
    "optimizer = optim.Adam(model.parameters(), lr=0.01)\n",
    "epochs=10"
   ]
  },
  {
   "cell_type": "code",
   "execution_count": 7,
   "id": "4d185a27",
   "metadata": {},
   "outputs": [],
   "source": [
    "import time"
   ]
  },
  {
   "cell_type": "code",
   "execution_count": 9,
   "id": "e0d39fa1",
   "metadata": {},
   "outputs": [
    {
     "name": "stdout",
     "output_type": "stream",
     "text": [
      "Epoch:  1  \tTraining Loss: 0.189160\n",
      "16.725549900000004\n",
      "Epoch:  2  \tTraining Loss: 0.130668\n",
      "9.553532899999993\n",
      "Epoch:  3  \tTraining Loss: 0.113287\n",
      "9.607486999999992\n",
      "Epoch:  4  \tTraining Loss: 0.117600\n",
      "9.757201199999997\n",
      "Epoch:  5  \tTraining Loss: 0.105338\n",
      "9.915631699999977\n",
      "Epoch:  6  \tTraining Loss: 0.105069\n",
      "9.6895935\n",
      "Epoch:  7  \tTraining Loss: 0.114365\n",
      "9.669973900000002\n",
      "Epoch:  8  \tTraining Loss: 0.097616\n",
      "9.855310000000003\n",
      "Epoch:  9  \tTraining Loss: 0.102663\n",
      "9.434495400000003\n",
      "Epoch:  10  \tTraining Loss: 0.097821\n",
      "9.610926799999987\n"
     ]
    }
   ],
   "source": [
    "for epoch in range(epochs):\n",
    "    t1 = time.perf_counter()\n",
    "    train_loss = 0.0\n",
    "    for data, target in train_loader:\n",
    "        data,target=data.to(device),target.to(device)\n",
    "\n",
    "        optimizer.zero_grad()\n",
    "        output = model(data)\n",
    "        loss = loss_function(output,target)\n",
    "        loss.backward()\n",
    "        optimizer.step()\n",
    "        train_loss += loss.item() * data.size(0)\n",
    "    train_loss = train_loss / len(train_loader.dataset)\n",
    "    print('Epoch:  {}  \\tTraining Loss: {:.6f}'.format(epoch + 1, train_loss))\n",
    "    \n",
    "    print(time.perf_counter() - t1)\n"
   ]
  },
  {
   "cell_type": "code",
   "execution_count": 10,
   "id": "f5175b08",
   "metadata": {},
   "outputs": [
    {
     "name": "stdout",
     "output_type": "stream",
     "text": [
      "Accuracy of the network on the test images: 97 %\n"
     ]
    }
   ],
   "source": [
    "correct = 0\n",
    "total = 0\n",
    "with torch.no_grad():  # 训练集中不需要反向传播\n",
    "    for data in test_loader:\n",
    "        images, labels = data\n",
    "        images, labels =images.to(device), labels.to(device)\n",
    "        output = model(images)\n",
    "        _, predicted = torch.max(output.data, 1)\n",
    "        total += labels.size(0)\n",
    "        correct += (predicted == labels).sum().item()\n",
    "print('Accuracy of the network on the test images: %d %%' % (100 * correct / total))"
   ]
  },
  {
   "cell_type": "code",
   "execution_count": null,
   "id": "fb236d51",
   "metadata": {},
   "outputs": [],
   "source": []
  }
 ],
 "metadata": {
  "kernelspec": {
   "display_name": "Python 3 (ipykernel)",
   "language": "python",
   "name": "python3"
  },
  "language_info": {
   "codemirror_mode": {
    "name": "ipython",
    "version": 3
   },
   "file_extension": ".py",
   "mimetype": "text/x-python",
   "name": "python",
   "nbconvert_exporter": "python",
   "pygments_lexer": "ipython3",
   "version": "3.7.11"
  }
 },
 "nbformat": 4,
 "nbformat_minor": 5
}
