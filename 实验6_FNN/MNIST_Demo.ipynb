{
 "cells": [
  {
   "cell_type": "code",
   "execution_count": 3,
   "id": "0b6b19ba",
   "metadata": {},
   "outputs": [],
   "source": [
    "import torch\n",
    "from torchvision import datasets\n",
    "import torchvision.transforms as transforms\n",
    "from torch.utils.data import DataLoader"
   ]
  },
  {
   "cell_type": "code",
   "execution_count": 4,
   "id": "eade6a47",
   "metadata": {},
   "outputs": [],
   "source": [
    "#读取数据\n",
    "train_data = datasets.MNIST(root=\"./data\", train=True, \n",
    "                            download=True,transform=transforms.ToTensor())\n",
    "test_data = datasets.MNIST(root=\"./data\", train=False, \n",
    "                           download=True, transform=transforms.ToTensor())\n"
   ]
  },
  {
   "cell_type": "code",
   "execution_count": 5,
   "id": "710e130d",
   "metadata": {},
   "outputs": [
    {
     "data": {
      "text/plain": [
       "(Dataset MNIST\n",
       "     Number of datapoints: 60000\n",
       "     Root location: ./data\n",
       "     Split: Train\n",
       "     StandardTransform\n",
       " Transform: ToTensor(),\n",
       " Dataset MNIST\n",
       "     Number of datapoints: 10000\n",
       "     Root location: ./data\n",
       "     Split: Test\n",
       "     StandardTransform\n",
       " Transform: ToTensor())"
      ]
     },
     "execution_count": 5,
     "metadata": {},
     "output_type": "execute_result"
    }
   ],
   "source": [
    "train_data,test_data"
   ]
  },
  {
   "cell_type": "code",
   "execution_count": 6,
   "id": "8dd439de",
   "metadata": {},
   "outputs": [],
   "source": [
    "#创建数据加载器\n",
    "batch_size = 16\n",
    "train_loader = torch.utils.data.DataLoader(train_data, batch_size = batch_size, num_workers = 0)\n",
    "test_loader = torch.utils.data.DataLoader(test_data, batch_size = batch_size, num_workers = 0)\n"
   ]
  },
  {
   "cell_type": "code",
   "execution_count": 7,
   "id": "d02405c3",
   "metadata": {},
   "outputs": [
    {
     "name": "stdout",
     "output_type": "stream",
     "text": [
      "tensor([5, 0, 4, 1, 9, 2, 1, 3, 1, 4, 3, 5, 3, 6, 1, 7])\n",
      "torch.Size([16, 1, 28, 28])\n"
     ]
    }
   ],
   "source": [
    "# 查看数据\n",
    "examples = enumerate(train_loader)\n",
    "batch_idx, (example_data, example_targets) = next(examples)\n",
    "print(example_targets)\n",
    "print(example_data.shape)"
   ]
  },
  {
   "cell_type": "code",
   "execution_count": 13,
   "id": "b1e7e823",
   "metadata": {
    "scrolled": true
   },
   "outputs": [
    {
     "data": {
      "image/png": "[encoded data removed]",
      "text/plain": [
       "<Figure size 432x288 with 6 Axes>"
      ]
     },
     "metadata": {},
     "output_type": "display_data"
    }
   ],
   "source": [
    "# 图像可视化\n",
    "import matplotlib.pyplot as plt\n",
    "\n",
    "fig = plt.figure()\n",
    "for i in range(6):\n",
    "    plt.subplot(2,3,i+1)\n",
    "    plt.tight_layout()\n",
    "    plt.imshow(example_data[i][0], cmap='gray', interpolation='none')\n",
    "    plt.title(\"True Label: {}\".format(example_targets[i]))\n",
    "    plt.xticks([])\n",
    "    plt.yticks([])\n",
    "plt.show()"
   ]
  },
  {
   "cell_type": "code",
   "execution_count": 32,
   "id": "f334e17d",
   "metadata": {},
   "outputs": [],
   "source": [
    "import torch.nn as nn\n",
    "import torch.nn.functional as F\n",
    "class MLP4(nn.Module):\n",
    "    def __init__(self,input_dim, hidden_dim, num_class):\n",
    "        super(MLP4, self).__init__()\n",
    "\n",
    "        self.linear1 = nn.Linear(input_dim, hidden_dim)\n",
    "        self.linear2 = nn.Linear(hidden_dim, 200)\n",
    "        self.linear3 = nn.Linear(200, 100)\n",
    "        self.linear4 = nn.Linear(100, num_class)\n",
    "        \n",
    "\n",
    "    def forward(self, data):\n",
    "        #先将图片数据转化为1*784的张量\n",
    "        data = data.view(-1, 28*28)\n",
    "        data = F.relu(self.linear1(data))\n",
    "        data = F.relu((self.linear2(data)))\n",
    "        data = F.relu((self.linear3(data)))\n",
    "        data = F.log_softmax(data, dim = 1)\n",
    "\n",
    "        return data"
   ]
  },
  {
   "cell_type": "code",
   "execution_count": 33,
   "id": "5536bd7a",
   "metadata": {},
   "outputs": [
    {
     "name": "stdout",
     "output_type": "stream",
     "text": [
      "MLP4(\n",
      "  (linear1): Linear(in_features=784, out_features=500, bias=True)\n",
      "  (linear2): Linear(in_features=500, out_features=200, bias=True)\n",
      "  (linear3): Linear(in_features=200, out_features=100, bias=True)\n",
      "  (linear4): Linear(in_features=100, out_features=10, bias=True)\n",
      ")\n"
     ]
    }
   ],
   "source": [
    "input_size = 28*28\n",
    "hidden_size = 500\n",
    "class_num = 10\n",
    "epochs = 10\n",
    "\n",
    "model = MLP4(input_size, hidden_size, class_num)\n",
    "\n",
    "print(model)"
   ]
  },
  {
   "cell_type": "code",
   "execution_count": 34,
   "id": "f9da15ce",
   "metadata": {},
   "outputs": [],
   "source": [
    "import torch.optim as optim\n",
    "loss_function = nn.CrossEntropyLoss() \n",
    "optimizer = optim.Adam(model.parameters(), lr=0.01) "
   ]
  },
  {
   "cell_type": "code",
   "execution_count": 35,
   "id": "f77d3937",
   "metadata": {},
   "outputs": [
    {
     "name": "stdout",
     "output_type": "stream",
     "text": [
      "Epoch:  1  \tTraining Loss: 1.470005\n",
      "Epoch:  2  \tTraining Loss: 1.088731\n",
      "Epoch:  3  \tTraining Loss: 1.065158\n",
      "Epoch:  4  \tTraining Loss: 1.050406\n",
      "Epoch:  5  \tTraining Loss: 1.042570\n",
      "Epoch:  6  \tTraining Loss: 0.664654\n",
      "Epoch:  7  \tTraining Loss: 0.635700\n",
      "Epoch:  8  \tTraining Loss: 0.619671\n",
      "Epoch:  9  \tTraining Loss: 0.627280\n",
      "Epoch:  10  \tTraining Loss: 0.616992\n"
     ]
    }
   ],
   "source": [
    "total_step = len(train_loader)\n",
    "\n",
    "for epoch in range(epochs):\n",
    "    train_loss = 0.0\n",
    "    for data, target in train_loader:\n",
    "        optimizer.zero_grad()\n",
    "        output = model(data)\n",
    "        loss = loss_function(output,target)\n",
    "        loss.backward()\n",
    "        optimizer.step()\n",
    "        train_loss += loss.item() * data.size(0)\n",
    "    train_loss = train_loss / len(train_loader.dataset)\n",
    "    print('Epoch:  {}  \\tTraining Loss: {:.6f}'.format(epoch + 1, train_loss))"
   ]
  },
  {
   "cell_type": "code",
   "execution_count": 36,
   "id": "f7adad15",
   "metadata": {},
   "outputs": [
    {
     "name": "stdout",
     "output_type": "stream",
     "text": [
      "Accuracy of the network on the test images: 84 %\n"
     ]
    }
   ],
   "source": [
    "correct = 0\n",
    "total = 0\n",
    "with torch.no_grad():  # 训练集中不需要反向传播\n",
    "    for data in test_loader:\n",
    "        images, labels = data\n",
    "        output = model(images)\n",
    "        _, predicted = torch.max(output.data, 1)\n",
    "        total += labels.size(0)\n",
    "        correct += (predicted == labels).sum().item()\n",
    "print('Accuracy of the network on the test images: %d %%' % (100 * correct / total))"
   ]
  },
  {
   "cell_type": "code",
   "execution_count": null,
   "id": "b022965b",
   "metadata": {},
   "outputs": [],
   "source": []
  }
 ],
 "metadata": {
  "kernelspec": {
   "display_name": "Python 3 (ipykernel)",
   "language": "python",
   "name": "python3"
  },
  "language_info": {
   "codemirror_mode": {
    "name": "ipython",
    "version": 3
   },
   "file_extension": ".py",
   "mimetype": "text/x-python",
   "name": "python",
   "nbconvert_exporter": "python",
   "pygments_lexer": "ipython3",
   "version": "3.7.11"
  }
 },
 "nbformat": 4,
 "nbformat_minor": 5
}
